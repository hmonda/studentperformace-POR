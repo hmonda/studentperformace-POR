{
 "metadata": {
  "language_info": {
   "codemirror_mode": {
    "name": "ipython",
    "version": 3
   },
   "file_extension": ".py",
   "mimetype": "text/x-python",
   "name": "python",
   "nbconvert_exporter": "python",
   "pygments_lexer": "ipython3",
   "version": "3.8.5-final"
  },
  "orig_nbformat": 2,
  "kernelspec": {
   "name": "python38532bit94d13781905745979eb13a4f85b62e1d",
   "display_name": "Python 3.8.5 32-bit"
  }
 },
 "nbformat": 4,
 "nbformat_minor": 2,
 "cells": [
  {
   "cell_type": "code",
   "execution_count": 30,
   "metadata": {},
   "outputs": [],
   "source": [
    "from pymongo import MongoClient\n",
    "from pprintpp import pprint\n",
    "import warnings\n",
    "warnings.filterwarnings('ignore')"
   ]
  },
  {
   "cell_type": "code",
   "execution_count": 31,
   "metadata": {
    "tags": []
   },
   "outputs": [
    {
     "output_type": "stream",
     "name": "stdout",
     "text": "Database(MongoClient(host=['localhost:27017'], document_class=dict, tz_aware=False, connect=True), 'studentperformance')\n"
    }
   ],
   "source": [
    "mongoclient = MongoClient('localhost', 27017)\n",
    "db = mongoclient.studentperformance\n",
    "print(db)"
   ]
  },
  {
   "cell_type": "code",
   "execution_count": 108,
   "metadata": {
    "tags": []
   },
   "outputs": [
    {
     "output_type": "stream",
     "name": "stdout",
     "text": "Collection(Database(MongoClient(host=['localhost:27017'], document_class=dict, tz_aware=False, connect=True), 'studentperformance'), 'resultsgradeportuguese')\n"
    }
   ],
   "source": [
    "print(db[\"resultsgradeportuguese\"])"
   ]
  },
  {
   "cell_type": "code",
   "execution_count": 32,
   "metadata": {
    "tags": []
   },
   "outputs": [
    {
     "output_type": "stream",
     "name": "stdout",
     "text": "[{'_id': 'F', 'avgAbs': 3.577023498694517, 'devAbs': 4.667891271044614}, {'_id': 'M', 'avgAbs': 3.7781954887218046, 'devAbs': 4.607587480648484}]\nF: Media (Faltas)= 3.58; Desvio P. (Faltas)= 4.67;\nM: Media (Faltas)= 3.78; Desvio P. (Faltas)= 4.61;\n"
    }
   ],
   "source": [
    "sexXabs = list(db.portugueseperformance.aggregate(\n",
    "    [\n",
    "        {\n",
    "            \"$group\":\n",
    "        {\n",
    "            \"_id\": \"$sex\",\n",
    "            \"avgAbs\": { \"$avg\": \"$absences\"},\n",
    "            \"devAbs\": { \"$stdDevSamp\": \"$absences\"}\n",
    "        }}]))\n",
    "print(sexXabs)\n",
    "\n",
    "for element in sexXabs:\n",
    "     roundAvg = round(element['avgAbs'],2)\n",
    "     roundDev = round(element['devAbs'],2)\n",
    "     print(element[\"_id\"] + \": Media (Faltas)= \" + str(roundAvg)+\"; Desvio P. (Faltas)= \"+ str(roundDev)+\";\")"
   ]
  },
  {
   "cell_type": "code",
   "execution_count": 66,
   "metadata": {
    "tags": []
   },
   "outputs": [
    {
     "output_type": "stream",
     "name": "stdout",
     "text": "[{'_id': 'M', 'avgGrade': 11.406015037593985, 'devGrade': 3.3206900714635217}, {'_id': 'F', 'avgGrade': 12.2532637075718, 'devGrade': 3.124147389601149}]\nM: Media (Nota Final) = 11.41; Desvio P. (Nota Final) = 3.32;\nF: Media (Nota Final) = 12.25; Desvio P. (Nota Final) = 3.12;\n"
    }
   ],
   "source": [
    "sexXgrade = list(db.portugueseperformance.aggregate(\n",
    "    [\n",
    "        {\n",
    "            \"$group\":\n",
    "        {\n",
    "            \"_id\": \"$sex\",\n",
    "            \"avgGrade\": { \"$avg\": \"$G3\"},\n",
    "            \"devGrade\": { \"$stdDevSamp\": \"$G3\"}\n",
    "        }}]))\n",
    "print(sexXgrade)\n",
    "\n",
    "for av in sexXgrade:\n",
    "     roundAvg = round(av['avgGrade'],2)\n",
    "     roundDev = round(av['devGrade'],2)\n",
    "     print(av[\"_id\"] + \": Media (Nota Final) = \" + str(roundAvg)+'; Desvio P. (Nota Final) = '+ str(roundDev)+';')"
   ]
  },
  {
   "cell_type": "code",
   "execution_count": 109,
   "metadata": {},
   "outputs": [],
   "source": [
    "for x in sexXgrade:\n",
    "     db.resultsgradeportuguese.insert({\"_id\": x[\"_id\"] + '_sex', \"factor\": \"sex\", \"avgGrade\": x[\"avgGrade\"],\"devGrade\": x[\"devGrade\"]})"
   ]
  },
  {
   "cell_type": "code",
   "execution_count": 34,
   "metadata": {
    "tags": []
   },
   "outputs": [
    {
     "output_type": "stream",
     "name": "stdout",
     "text": "[{'_id': 'no', 'avgAbs': 3.3780487804878048, 'devAbs': 4.291460343549175}, {'_id': 'yes', 'avgAbs': 4.142259414225942, 'devAbs': 5.1592957551127085}]\nNão tem relacionamento romântico.: Media (Faltas) = 3.38; Desvio P. (Faltas) = 4.29;\nTem relacionamento romântico.: Media (Faltas) = 4.14; Desvio P. (Faltas) = 5.16;\n"
    }
   ],
   "source": [
    "romXabs = list(db.portugueseperformance.aggregate(\n",
    "    [\n",
    "        {\n",
    "            \"$group\":\n",
    "        {\n",
    "            \"_id\": \"$romantic\",\n",
    "            \"avgAbs\": { \"$avg\": \"$absences\"},\n",
    "            \"devAbs\": { \"$stdDevSamp\": \"$absences\"}\n",
    "        }}]))\n",
    "print(romXabs)\n",
    "\n",
    "for av in romXabs:\n",
    "     roundAvg = round(av['avgAbs'],2)\n",
    "     roundDev = round(av['devAbs'],2)\n",
    "     print((\"Tem\" if av['_id'] =='yes' else \"Não tem\") + ' relacionamento romântico.: Media (Faltas) = ' + str(roundAvg)+'; Desvio P. (Faltas) = '+ str(roundDev)+';')"
   ]
  },
  {
   "cell_type": "code",
   "execution_count": 35,
   "metadata": {
    "tags": []
   },
   "outputs": [
    {
     "output_type": "stream",
     "name": "stdout",
     "text": "[{'_id': 'no', 'avgGrade': 12.129268292682926, 'devGrade': 3.0037257958158237}, {'_id': 'yes', 'avgGrade': 11.523012552301255, 'devGrade': 3.5607709903980442}]\nNão tem relacionamento romântico.: Media (Nota Final) = 12.13; Desvio P. (Nota Final) = 3.0;\nTem relacionamento romântico.: Media (Nota Final) = 11.52; Desvio P. (Nota Final) = 3.56;\n"
    }
   ],
   "source": [
    "romXgrade = list(db.portugueseperformance.aggregate(\n",
    "    [\n",
    "        {\n",
    "            \"$group\":\n",
    "        {\n",
    "            \"_id\": \"$romantic\",\n",
    "            \"avgGrade\": { \"$avg\": \"$G3\"},\n",
    "            \"devGrade\": { \"$stdDevSamp\": \"$G3\"}\n",
    "        }}]))\n",
    "print(romXgrade)\n",
    "\n",
    "for av in romXgrade:\n",
    "     roundAvg = round(av['avgGrade'],2)\n",
    "     roundDev = round(av['devGrade'],2)\n",
    "     print((\"Tem\" if av['_id'] =='yes' else \"Não tem\") + ' relacionamento romântico.: Media (Nota Final) = ' + str(roundAvg)+'; Desvio P. (Nota Final) = '+ str(roundDev)+';')"
   ]
  },
  {
   "cell_type": "code",
   "execution_count": 110,
   "metadata": {},
   "outputs": [],
   "source": [
    "for x in romXgrade:\n",
    "     db.resultsgradeportuguese.insert({\"_id\": x[\"_id\"] + '_romantic', \"factor\": \"romantic\", \"avgGrade\": x[\"avgGrade\"],\"devGrade\": x[\"devGrade\"]})"
   ]
  },
  {
   "cell_type": "code",
   "execution_count": 36,
   "metadata": {
    "tags": []
   },
   "outputs": [
    {
     "output_type": "stream",
     "name": "stdout",
     "text": "[{'_id': 'A', 'avgAbs': 5.1125, 'devAbs': 5.789544810598157}, {'_id': 'T', 'avgAbs': 3.4551845342706504, 'devAbs': 4.423669372153234}]\nPais moram separados: Media (Faltas) = 5.11; Desvio P. (Faltas) = 5.79;\nPais moram juntos: Media (Faltas) = 3.46; Desvio P. (Faltas) = 4.42;\n"
    }
   ],
   "source": [
    "pstXabs = list(db.portugueseperformance.aggregate(\n",
    "    [\n",
    "        {\n",
    "            \"$group\":\n",
    "        {\n",
    "            \"_id\": \"$Pstatus\",\n",
    "            \"avgAbs\": { \"$avg\": \"$absences\"},\n",
    "            \"devAbs\": { \"$stdDevSamp\": \"$absences\"}\n",
    "        }}]))\n",
    "print(pstXabs)\n",
    "\n",
    "for av in pstXabs:\n",
    "     roundAvg = round(av['avgAbs'],2)\n",
    "     roundDev = round(av['devAbs'],2)\n",
    "     print((\"Pais moram juntos\" if av[\"_id\"] ==\"T\" else \"Pais moram separados\") + \": Media (Faltas) = \" + str(roundAvg)+\"; Desvio P. (Faltas) = \"+ str(roundDev)+\";\")"
   ]
  },
  {
   "cell_type": "code",
   "execution_count": 37,
   "metadata": {
    "tags": []
   },
   "outputs": [
    {
     "output_type": "stream",
     "name": "stdout",
     "text": "[{'_id': 'A', 'avgGrade': 11.9125, 'devGrade': 3.222522598638243}, {'_id': 'T', 'avgGrade': 11.905096660808436, 'devGrade': 3.234626483128855}]\nPais moram separados: Media (Nota Final) = 11.91; Desvio P. (Nota Final) = 3.22;\nPais moram juntos: Media (Nota Final) = 11.91; Desvio P. (Nota Final) = 3.23;\n"
    }
   ],
   "source": [
    "pstXgrade = list(db.portugueseperformance.aggregate(\n",
    "    [\n",
    "        {\n",
    "            \"$group\":\n",
    "        {\n",
    "            \"_id\": \"$Pstatus\",\n",
    "            \"avgGrade\": { \"$avg\": \"$G3\"},\n",
    "            \"devGrade\": { \"$stdDevSamp\": \"$G3\"}\n",
    "        }}]))\n",
    "print(pstXgrade)\n",
    "\n",
    "for av in pstXgrade:\n",
    "     roundAvg = round(av['avgGrade'],2)\n",
    "     roundDev = round(av['devGrade'],2)\n",
    "     print((\"Pais moram juntos\" if av[\"_id\"] ==\"T\" else \"Pais moram separados\") + \": Media (Nota Final) = \" + str(roundAvg)+\"; Desvio P. (Nota Final) = \"+ str(roundDev)+\";\")"
   ]
  },
  {
   "cell_type": "code",
   "execution_count": 111,
   "metadata": {},
   "outputs": [],
   "source": [
    "for x in pstXgrade:\n",
    "     db.resultsgradeportuguese.insert({\"_id\": x[\"_id\"] + '_Pstatus', \"factor\": \"Pstatus\", \"avgGrade\": x[\"avgGrade\"],\"devGrade\": x[\"devGrade\"]})"
   ]
  },
  {
   "cell_type": "code",
   "execution_count": 38,
   "metadata": {
    "tags": []
   },
   "outputs": [
    {
     "output_type": "stream",
     "name": "stdout",
     "text": "[{'_id': 1, 'avgAbs': 4.222222222222222, 'devAbs': 5.690081608738785}, {'_id': 2, 'avgAbs': 3.4358974358974357, 'devAbs': 4.719645990438083}, {'_id': 3, 'avgAbs': 3.7661290322580645, 'devAbs': 4.590745145545044}, {'_id': 4, 'avgAbs': 3.240740740740741, 'devAbs': 4.15105069543624}, {'_id': 5, 'avgAbs': 3.6546184738955825, 'devAbs': 4.431511606207034}]\nEstado de Saúde: De |1 - Muito ruim| para |5 - Bastante saudável|\n1: Media (Faltas) = 4.22; Desvio P. (Faltas) = 5.69;\n2: Media (Faltas) = 3.44; Desvio P. (Faltas) = 4.72;\n3: Media (Faltas) = 3.77; Desvio P. (Faltas) = 4.59;\n4: Media (Faltas) = 3.24; Desvio P. (Faltas) = 4.15;\n5: Media (Faltas) = 3.65; Desvio P. (Faltas) = 4.43;\n"
    }
   ],
   "source": [
    "def returnId(o):\n",
    "    return o['_id']\n",
    "\n",
    "healthXabs = list(db.portugueseperformance.aggregate(\n",
    "    [\n",
    "        {\n",
    "            \"$group\":\n",
    "        {\n",
    "            \"_id\": \"$health\",\n",
    "            \"avgAbs\": { \"$avg\": \"$absences\"},\n",
    "            \"devAbs\": { \"$stdDevSamp\": \"$absences\"}\n",
    "        }}]))\n",
    "healthXabs.sort(reverse=False, key=returnId)\n",
    "print(healthXabs)\n",
    "print(\"Estado de Saúde: De |1 - Muito ruim| para |5 - Bastante saudável|\")\n",
    "for av in healthXabs:\n",
    "     roundAvg = round(av['avgAbs'],2)\n",
    "     roundDev = round(av['devAbs'],2)\n",
    "     print(str(av[\"_id\"]) + \": Media (Faltas) = \" + str(roundAvg)+\"; Desvio P. (Faltas) = \"+ str(roundDev)+\";\")"
   ]
  },
  {
   "cell_type": "code",
   "execution_count": 39,
   "metadata": {
    "tags": []
   },
   "outputs": [
    {
     "output_type": "stream",
     "name": "stdout",
     "text": "[{'_id': 1, 'avgGrade': 12.477777777777778, 'devGrade': 3.2644760674580304}, {'_id': 2, 'avgGrade': 12.192307692307692, 'devGrade': 3.2991840483088213}, {'_id': 3, 'avgGrade': 11.838709677419354, 'devGrade': 3.137465956863068}, {'_id': 4, 'avgGrade': 12.305555555555555, 'devGrade': 2.996753175524401}, {'_id': 5, 'avgGrade': 11.46987951807229, 'devGrade': 3.3020180146838283}]\nEstado de Saúde: De |1 - Muito ruim| para |5 - Bastante saudável|\n1: Media (Nota Final) = 12.48; Desvio P. (Nota Final) = 3.26;\n2: Media (Nota Final) = 12.19; Desvio P. (Nota Final) = 3.3;\n3: Media (Nota Final) = 11.84; Desvio P. (Nota Final) = 3.14;\n4: Media (Nota Final) = 12.31; Desvio P. (Nota Final) = 3.0;\n5: Media (Nota Final) = 11.47; Desvio P. (Nota Final) = 3.3;\n"
    }
   ],
   "source": [
    "def returnId(element):\n",
    "    return element['_id']\n",
    "\n",
    "healthXgrade = list(db.portugueseperformance.aggregate(\n",
    "    [\n",
    "        {\n",
    "            \"$group\":\n",
    "        {\n",
    "            \"_id\": \"$health\",\n",
    "            \"avgGrade\": { \"$avg\": \"$G3\"},\n",
    "            \"devGrade\": { \"$stdDevSamp\": \"$G3\"}\n",
    "        }}]))\n",
    "healthXgrade.sort(reverse=False, key=returnId)\n",
    "print(healthXgrade)\n",
    "print(\"Estado de Saúde: De |1 - Muito ruim| para |5 - Bastante saudável|\")\n",
    "for av in healthXgrade:\n",
    "     roundAvg = round(av['avgGrade'],2)\n",
    "     roundDev = round(av['devGrade'],2)\n",
    "     print(str(av[\"_id\"]) + \": Media (Nota Final) = \" + str(roundAvg)+\"; Desvio P. (Nota Final) = \"+ str(roundDev)+\";\")"
   ]
  },
  {
   "cell_type": "code",
   "execution_count": 113,
   "metadata": {},
   "outputs": [],
   "source": [
    "for x in healthXgrade:\n",
    "     db.resultsgradeportuguese.insert({\"_id\": str(x[\"_id\"]) + '_health', \"factor\": \"health\", \"avgGrade\": x[\"avgGrade\"],\"devGrade\": x[\"devGrade\"]})"
   ]
  },
  {
   "cell_type": "code",
   "execution_count": 40,
   "metadata": {
    "tags": []
   },
   "outputs": [
    {
     "output_type": "stream",
     "name": "stdout",
     "text": "[{'_id': 1, 'avgAbs': 3.6530054644808745, 'devAbs': 4.743541158592149}, {'_id': 2, 'avgAbs': 3.7183098591549295, 'devAbs': 4.746944693421478}, {'_id': 3, 'avgAbs': 3.6666666666666665, 'devAbs': 3.7010962170074913}, {'_id': 4, 'avgAbs': 3.0, 'devAbs': 3.9327683210007}]\nTempo de trajeto entre Casa-Escola: De |1 - Menos que 15 min.| para |4 - Mais que 1 hora|\n1: Media (Faltas) = 3.65; Desvio P. (Faltas) = 4.74;\n2: Media (Faltas) = 3.72; Desvio P. (Faltas) = 4.75;\n3: Media (Faltas) = 3.67; Desvio P. (Faltas) = 3.7;\n4: Media (Faltas) = 3.0; Desvio P. (Faltas) = 3.93;\n"
    }
   ],
   "source": [
    "def returnId(o):\n",
    "    return o['_id']\n",
    "\n",
    "travelXabs = list(db.portugueseperformance.aggregate(\n",
    "    [\n",
    "        {\n",
    "            \"$group\":\n",
    "        {\n",
    "            \"_id\": \"$traveltime\",\n",
    "            \"avgAbs\": { \"$avg\": \"$absences\"},\n",
    "            \"devAbs\": { \"$stdDevSamp\": \"$absences\"}\n",
    "        }}]))\n",
    "travelXabs.sort(reverse=False, key=returnId)\n",
    "print(travelXabs)\n",
    "print(\"Tempo de trajeto entre Casa-Escola: De |1 - Menos que 15 min.| para |4 - Mais que 1 hora|\")\n",
    "for av in travelXabs:\n",
    "     roundAvg = round(av['avgAbs'],2)\n",
    "     roundDev = round(av['devAbs'],2)\n",
    "     print(str(av[\"_id\"]) + \": Media (Faltas) = \" + str(roundAvg)+\"; Desvio P. (Faltas) = \"+ str(roundDev)+\";\")"
   ]
  },
  {
   "cell_type": "code",
   "execution_count": 41,
   "metadata": {
    "tags": []
   },
   "outputs": [
    {
     "output_type": "stream",
     "name": "stdout",
     "text": "[{'_id': 1, 'avgGrade': 12.251366120218579, 'devGrade': 3.113767183623067}, {'_id': 2, 'avgGrade': 11.577464788732394, 'devGrade': 3.4229882061391232}, {'_id': 3, 'avgGrade': 11.166666666666666, 'devGrade': 3.272238861973759}, {'_id': 4, 'avgGrade': 10.875, 'devGrade': 1.995828983989694}]\nTempo de trajeto entre Casa-Escola: De |1 - Menos que 15 min.| para |4 - Mais que 1 hora|\n1: Media (Nota Final) = 12.25; Desvio P. (Nota Final) = 3.11;\n2: Media (Nota Final) = 11.58; Desvio P. (Nota Final) = 3.42;\n3: Media (Nota Final) = 11.17; Desvio P. (Nota Final) = 3.27;\n4: Media (Nota Final) = 10.88; Desvio P. (Nota Final) = 2.0;\n"
    }
   ],
   "source": [
    "def returnId(element):\n",
    "    return element['_id']\n",
    "\n",
    "travelXgrade = list(db.portugueseperformance.aggregate(\n",
    "    [\n",
    "        {\n",
    "            \"$group\":\n",
    "        {\n",
    "            \"_id\": \"$traveltime\",\n",
    "            \"avgGrade\": { \"$avg\": \"$G3\"},\n",
    "            \"devGrade\": { \"$stdDevSamp\": \"$G3\"}\n",
    "        }}]))\n",
    "travelXgrade.sort(reverse=False, key=returnId)\n",
    "print(travelXgrade)\n",
    "print(\"Tempo de trajeto entre Casa-Escola: De |1 - Menos que 15 min.| para |4 - Mais que 1 hora|\")\n",
    "for av in travelXgrade:\n",
    "     roundAvg = round(av['avgGrade'],2)\n",
    "     roundDev = round(av['devGrade'],2)\n",
    "     print(str(av[\"_id\"]) + \": Media (Nota Final) = \" + str(roundAvg)+\"; Desvio P. (Nota Final) = \"+ str(roundDev)+\";\")"
   ]
  },
  {
   "cell_type": "code",
   "execution_count": 115,
   "metadata": {},
   "outputs": [],
   "source": [
    "for x in travelXgrade:\n",
    "     db.resultsgradeportuguese.insert({\"_id\": str(x[\"_id\"]) + '_traveltime', \"factor\": \"traveltime\", \"avgGrade\": x[\"avgGrade\"],\"devGrade\": x[\"devGrade\"]})"
   ]
  },
  {
   "cell_type": "code",
   "execution_count": 42,
   "metadata": {
    "tags": []
   },
   "outputs": [
    {
     "output_type": "stream",
     "name": "stdout",
     "text": "[{'_id': 1, 'avgAbs': 4.954545454545454, 'devAbs': 5.82668142686868}, {'_id': 2, 'avgAbs': 5.0, 'devAbs': 4.334248987508018}, {'_id': 3, 'avgAbs': 4.128712871287129, 'devAbs': 4.4557005427578575}, {'_id': 4, 'avgAbs': 3.444794952681388, 'devAbs': 4.482131864369308}, {'_id': 5, 'avgAbs': 3.4, 'devAbs': 4.869928245602644}]\nQualidade de relacionamento familiar: De |1 - Muito ruim| para |5 - Excelente|\n1: Media (Faltas) = 4.95; Desvio P. (Faltas) = 5.83;\n2: Media (Faltas) = 5.0; Desvio P. (Faltas) = 4.33;\n3: Media (Faltas) = 4.13; Desvio P. (Faltas) = 4.46;\n4: Media (Faltas) = 3.44; Desvio P. (Faltas) = 4.48;\n5: Media (Faltas) = 3.4; Desvio P. (Faltas) = 4.87;\n"
    }
   ],
   "source": [
    "def returnId(o):\n",
    "    return o['_id']\n",
    "\n",
    "famrelXabs = list(db.portugueseperformance.aggregate(\n",
    "    [\n",
    "        {\n",
    "            \"$group\":\n",
    "        {\n",
    "            \"_id\": \"$famrel\",\n",
    "            \"avgAbs\": { \"$avg\": \"$absences\"},\n",
    "            \"devAbs\": { \"$stdDevSamp\": \"$absences\"}\n",
    "        }}]))\n",
    "famrelXabs.sort(reverse=False, key=returnId)\n",
    "print(famrelXabs)\n",
    "print(\"Qualidade de relacionamento familiar: De |1 - Muito ruim| para |5 - Excelente|\")\n",
    "for av in famrelXabs:\n",
    "     roundAvg = round(av['avgAbs'],2)\n",
    "     roundDev = round(av['devAbs'],2)\n",
    "     print(str(av[\"_id\"]) + \": Media (Faltas) = \" + str(roundAvg)+\"; Desvio P. (Faltas) = \"+ str(roundDev)+\";\")"
   ]
  },
  {
   "cell_type": "code",
   "execution_count": 43,
   "metadata": {
    "tags": []
   },
   "outputs": [
    {
     "output_type": "stream",
     "name": "stdout",
     "text": "[{'_id': 1, 'avgGrade': 10.636363636363637, 'devGrade': 3.6455511640962177}, {'_id': 2, 'avgGrade': 10.862068965517242, 'devGrade': 3.71025738355397}, {'_id': 3, 'avgGrade': 11.594059405940595, 'devGrade': 3.0337376874798596}, {'_id': 4, 'avgGrade': 12.343848580441641, 'devGrade': 2.937923416686694}, {'_id': 5, 'avgGrade': 11.633333333333333, 'devGrade': 3.5844169250712774}]\nQualidade de relacionamento familiar: De |1 - Muito ruim| para |5 - Excelente|\n1: Media (Nota Final) = 10.64; Desvio P. (Nota Final) = 3.65;\n2: Media (Nota Final) = 10.86; Desvio P. (Nota Final) = 3.71;\n3: Media (Nota Final) = 11.59; Desvio P. (Nota Final) = 3.03;\n4: Media (Nota Final) = 12.34; Desvio P. (Nota Final) = 2.94;\n5: Media (Nota Final) = 11.63; Desvio P. (Nota Final) = 3.58;\n"
    }
   ],
   "source": [
    "def returnId(o):\n",
    "    return o['_id']\n",
    "\n",
    "famrelXgrade = list(db.portugueseperformance.aggregate(\n",
    "    [\n",
    "        {\n",
    "            \"$group\":\n",
    "        {\n",
    "            \"_id\": \"$famrel\",\n",
    "            \"avgGrade\": { \"$avg\": \"$G3\"},\n",
    "            \"devGrade\": { \"$stdDevSamp\": \"$G3\"}\n",
    "        }}]))\n",
    "famrelXgrade.sort(reverse=False, key=returnId)\n",
    "print(famrelXgrade)\n",
    "print(\"Qualidade de relacionamento familiar: De |1 - Muito ruim| para |5 - Excelente|\")\n",
    "for av in famrelXgrade:\n",
    "     roundAvg = round(av['avgGrade'],2)\n",
    "     roundDev = round(av['devGrade'],2)\n",
    "     print(str(av[\"_id\"]) + \": Media (Nota Final) = \" + str(roundAvg)+\"; Desvio P. (Nota Final) = \"+ str(roundDev)+\";\")"
   ]
  },
  {
   "cell_type": "code",
   "execution_count": 117,
   "metadata": {},
   "outputs": [],
   "source": [
    "for x in famrelXgrade:\n",
    "     db.resultsgradeportuguese.insert({\"_id\": str(x[\"_id\"]) + '_famrel', \"factor\": \"famrel\", \"avgGrade\": x[\"avgGrade\"],\"devGrade\": x[\"devGrade\"]})"
   ]
  },
  {
   "cell_type": "code",
   "execution_count": 44,
   "metadata": {
    "tags": []
   },
   "outputs": [
    {
     "output_type": "stream",
     "name": "stdout",
     "text": "[{'_id': 1, 'avgGrade': 10.84433962264151, 'devGrade': 3.2186241265478754}, {'_id': 2, 'avgGrade': 12.091803278688525, 'devGrade': 3.243125070719801}, {'_id': 3, 'avgGrade': 13.22680412371134, 'devGrade': 2.5021039256958963}, {'_id': 4, 'avgGrade': 13.057142857142857, 'devGrade': 3.038409579551322}]\nTempo de estudo semanal: De |1 - Menos de 2 horas| para |4 - Mais de 10 horas|\n1: Media (Nota Final) = 10.84; Desvio P. (Nota Final) = 3.22;\n2: Media (Nota Final) = 12.09; Desvio P. (Nota Final) = 3.24;\n3: Media (Nota Final) = 13.23; Desvio P. (Nota Final) = 2.5;\n4: Media (Nota Final) = 13.06; Desvio P. (Nota Final) = 3.04;\n"
    }
   ],
   "source": [
    "def returnId(o):\n",
    "    return o['_id']\n",
    "\n",
    "studytXgrade = list(db.portugueseperformance.aggregate(\n",
    "    [\n",
    "        {\n",
    "            \"$group\":\n",
    "        {\n",
    "            \"_id\": \"$studytime\",\n",
    "            \"avgGrade\": { \"$avg\": \"$G3\"},\n",
    "            \"devGrade\": { \"$stdDevSamp\": \"$G3\"}\n",
    "        }}]))\n",
    "studytXgrade.sort(reverse=False, key=returnId)\n",
    "print(studytXgrade)\n",
    "print(\"Tempo de estudo semanal: De |1 - Menos de 2 horas| para |4 - Mais de 10 horas|\")\n",
    "for av in studytXgrade:\n",
    "     roundAvg = round(av['avgGrade'],2)\n",
    "     roundDev = round(av['devGrade'],2)\n",
    "     print(str(av[\"_id\"]) + \": Media (Nota Final) = \" + str(roundAvg)+\"; Desvio P. (Nota Final) = \"+ str(roundDev)+\";\")"
   ]
  },
  {
   "cell_type": "code",
   "execution_count": 45,
   "metadata": {
    "tags": []
   },
   "outputs": [
    {
     "output_type": "stream",
     "name": "stdout",
     "text": "[{'_id': 'no', 'avgGrade': 11.026490066225165, 'devGrade': 3.446635112429801}, {'_id': 'yes', 'avgGrade': 12.17269076305221, 'devGrade': 3.117145612474856}]\nNão tem acesso a internet: Media (Nota Final) = 11.03; Desvio P. (Nota Final) = 3.45;\nTem acesso a internet: Media (Nota Final) = 12.17; Desvio P. (Nota Final) = 3.12;\n"
    }
   ],
   "source": [
    "def returnId(o):\n",
    "    return o['_id']\n",
    "\n",
    "internetXgrade = list(db.portugueseperformance.aggregate(\n",
    "    [\n",
    "        {\n",
    "            \"$group\":\n",
    "        {\n",
    "            \"_id\": \"$internet\",\n",
    "            \"avgGrade\": { \"$avg\": \"$G3\"},\n",
    "            \"devGrade\": { \"$stdDevSamp\": \"$G3\"}\n",
    "        }}]))\n",
    "internetXgrade.sort(reverse=False, key=returnId)\n",
    "print(internetXgrade)\n",
    "for av in internetXgrade:\n",
    "     roundAvg = round(av['avgGrade'],2)\n",
    "     roundDev = round(av['devGrade'],2)\n",
    "     print((\"Tem\" if av['_id'] =='yes' else \"Não tem\") + ' acesso a internet: Media (Nota Final) = ' + str(roundAvg)+'; Desvio P. (Nota Final) = '+ str(roundDev)+';')"
   ]
  },
  {
   "cell_type": "code",
   "execution_count": 118,
   "metadata": {},
   "outputs": [],
   "source": [
    "for x in internetXgrade:\n",
    "     db.resultsgradeportuguese.insert({\"_id\": x[\"_id\"] + '_internet', \"factor\": \"internet\", \"avgGrade\": x[\"avgGrade\"],\"devGrade\": x[\"devGrade\"]})"
   ]
  },
  {
   "cell_type": "code",
   "execution_count": 46,
   "metadata": {
    "tags": []
   },
   "outputs": [
    {
     "output_type": "stream",
     "name": "stdout",
     "text": "[{'_id': 'no', 'avgGrade': 11.950819672131148, 'devGrade': 3.2504956272742924}, {'_id': 'yes', 'avgGrade': 11.205128205128204, 'devGrade': 2.8486329794397798}]\nNão tem aulas particulares extra classe: Media (Nota Final) = 11.95; Desvio P. (Nota Final) = 3.25;\nTem aulas particulares extra classe: Media (Nota Final) = 11.21; Desvio P. (Nota Final) = 2.85;\n"
    }
   ],
   "source": [
    "def returnId(o):\n",
    "    return o['_id']\n",
    "\n",
    "paidXgrade = list(db.portugueseperformance.aggregate(\n",
    "    [\n",
    "        {\n",
    "            \"$group\":\n",
    "        {\n",
    "            \"_id\": \"$paid\",\n",
    "            \"avgGrade\": { \"$avg\": \"$G3\"},\n",
    "            \"devGrade\": { \"$stdDevSamp\": \"$G3\"}\n",
    "        }}]))\n",
    "paidXgrade.sort(reverse=False, key=returnId)\n",
    "print(paidXgrade)\n",
    "for av in paidXgrade:\n",
    "     roundAvg = round(av['avgGrade'],2)\n",
    "     roundDev = round(av['devGrade'],2)\n",
    "     print((\"Tem\" if av['_id'] =='yes' else \"Não tem\") + ' aulas particulares extra classe: Media (Nota Final) = ' + str(roundAvg)+'; Desvio P. (Nota Final) = '+ str(roundDev)+';')"
   ]
  },
  {
   "cell_type": "code",
   "execution_count": 47,
   "metadata": {
    "tags": []
   },
   "outputs": [
    {
     "output_type": "stream",
     "name": "stdout",
     "text": "[{'_id': 1, 'avgGrade': 12.299334811529933, 'devGrade': 3.102898215268878}, {'_id': 2, 'avgGrade': 11.363636363636363, 'devGrade': 3.329164059239696}, {'_id': 3, 'avgGrade': 11.13953488372093, 'devGrade': 2.2528436564530656}, {'_id': 4, 'avgGrade': 8.941176470588236, 'devGrade': 5.129212759226484}, {'_id': 5, 'avgGrade': 10.235294117647058, 'devGrade': 2.94808013299982}]\nConsumo de álcool durante a semana: De |1 - Muito pouco| para |5 - Muito alto|\n1: Media (Nota Final) = 12.3; Desvio P. (Nota Final) = 3.1;\n2: Media (Nota Final) = 11.36; Desvio P. (Nota Final) = 3.33;\n3: Media (Nota Final) = 11.14; Desvio P. (Nota Final) = 2.25;\n4: Media (Nota Final) = 8.94; Desvio P. (Nota Final) = 5.13;\n5: Media (Nota Final) = 10.24; Desvio P. (Nota Final) = 2.95;\n"
    }
   ],
   "source": [
    "def returnId(o):\n",
    "    return o['_id']\n",
    "\n",
    "DalcXgrade = list(db.portugueseperformance.aggregate(\n",
    "    [\n",
    "        {\n",
    "            \"$group\":\n",
    "        {\n",
    "            \"_id\": \"$Dalc\",\n",
    "            \"avgGrade\": { \"$avg\": \"$G3\"},\n",
    "            \"devGrade\": { \"$stdDevSamp\": \"$G3\"}\n",
    "        }}]))\n",
    "DalcXgrade.sort(reverse=False, key=returnId)\n",
    "print(DalcXgrade)\n",
    "print(\"Consumo de álcool durante a semana: De |1 - Muito pouco| para |5 - Muito alto|\")\n",
    "for av in DalcXgrade:\n",
    "     roundAvg = round(av['avgGrade'],2)\n",
    "     roundDev = round(av['devGrade'],2)\n",
    "     print(str(av[\"_id\"]) + \": Media (Nota Final) = \" + str(roundAvg)+\"; Desvio P. (Nota Final) = \"+ str(roundDev)+\";\")"
   ]
  },
  {
   "cell_type": "code",
   "execution_count": 119,
   "metadata": {},
   "outputs": [],
   "source": [
    "for x in DalcXgrade:\n",
    "     db.resultsgradeportuguese.insert({\"_id\": str(x[\"_id\"]) + '_Dalc', \"factor\": \"Dalc\", \"avgGrade\": x[\"avgGrade\"],\"devGrade\": x[\"devGrade\"]})"
   ]
  },
  {
   "cell_type": "code",
   "execution_count": 48,
   "metadata": {
    "tags": []
   },
   "outputs": [
    {
     "output_type": "stream",
     "name": "stdout",
     "text": "[{'_id': 1, 'avgGrade': 12.360323886639677, 'devGrade': 3.056999946869286}, {'_id': 2, 'avgGrade': 12.26, 'devGrade': 3.085862980686354}, {'_id': 3, 'avgGrade': 11.666666666666666, 'devGrade': 3.64226666274959}, {'_id': 4, 'avgGrade': 11.03448275862069, 'devGrade': 2.805510673001831}, {'_id': 5, 'avgGrade': 10.555555555555555, 'devGrade': 3.5837737572891433}]\nConsumo de álcool durante o fim de semana: De |1 - Muito pouco| para |5 - Muito alto|\n1: Media (Nota Final) = 12.36; Desvio P. (Nota Final) = 3.06;\n2: Media (Nota Final) = 12.26; Desvio P. (Nota Final) = 3.09;\n3: Media (Nota Final) = 11.67; Desvio P. (Nota Final) = 3.64;\n4: Media (Nota Final) = 11.03; Desvio P. (Nota Final) = 2.81;\n5: Media (Nota Final) = 10.56; Desvio P. (Nota Final) = 3.58;\n"
    }
   ],
   "source": [
    "def returnId(o):\n",
    "    return o['_id']\n",
    "\n",
    "WalcXgrade = list(db.portugueseperformance.aggregate(\n",
    "    [\n",
    "        {\n",
    "            \"$group\":\n",
    "        {\n",
    "            \"_id\": \"$Walc\",\n",
    "            \"avgGrade\": { \"$avg\": \"$G3\"},\n",
    "            \"devGrade\": { \"$stdDevSamp\": \"$G3\"}\n",
    "        }}]))\n",
    "WalcXgrade.sort(reverse=False, key=returnId)\n",
    "print(WalcXgrade)\n",
    "print(\"Consumo de álcool durante o fim de semana: De |1 - Muito pouco| para |5 - Muito alto|\")\n",
    "for av in WalcXgrade:\n",
    "     roundAvg = round(av['avgGrade'],2)\n",
    "     roundDev = round(av['devGrade'],2)\n",
    "     print(str(av[\"_id\"]) + \": Media (Nota Final) = \" + str(roundAvg)+\"; Desvio P. (Nota Final) = \"+ str(roundDev)+\";\")"
   ]
  },
  {
   "cell_type": "code",
   "execution_count": 121,
   "metadata": {},
   "outputs": [
    {
     "output_type": "error",
     "ename": "DuplicateKeyError",
     "evalue": "E11000 duplicate key error collection: studentperformance.resultsgradeportuguese index: _id_ dup key: { _id: \"1_Walc\" }, full error: {'index': 0, 'code': 11000, 'keyPattern': {'_id': 1}, 'keyValue': {'_id': '1_Walc'}, 'errmsg': 'E11000 duplicate key error collection: studentperformance.resultsgradeportuguese index: _id_ dup key: { _id: \"1_Walc\" }'}",
     "traceback": [
      "\u001b[1;31m---------------------------------------------------------------------------\u001b[0m",
      "\u001b[1;31mDuplicateKeyError\u001b[0m                         Traceback (most recent call last)",
      "\u001b[1;32m<ipython-input-121-dd47c6c5d401>\u001b[0m in \u001b[0;36m<module>\u001b[1;34m\u001b[0m\n\u001b[0;32m      1\u001b[0m \u001b[1;32mfor\u001b[0m \u001b[0mx\u001b[0m \u001b[1;32min\u001b[0m \u001b[0mWalcXgrade\u001b[0m\u001b[1;33m:\u001b[0m\u001b[1;33m\u001b[0m\u001b[1;33m\u001b[0m\u001b[0m\n\u001b[1;32m----> 2\u001b[1;33m      \u001b[0mdb\u001b[0m\u001b[1;33m.\u001b[0m\u001b[0mresultsgradeportuguese\u001b[0m\u001b[1;33m.\u001b[0m\u001b[0minsert\u001b[0m\u001b[1;33m(\u001b[0m\u001b[1;33m{\u001b[0m\u001b[1;34m\"_id\"\u001b[0m\u001b[1;33m:\u001b[0m \u001b[0mstr\u001b[0m\u001b[1;33m(\u001b[0m\u001b[0mx\u001b[0m\u001b[1;33m[\u001b[0m\u001b[1;34m\"_id\"\u001b[0m\u001b[1;33m]\u001b[0m\u001b[1;33m)\u001b[0m \u001b[1;33m+\u001b[0m \u001b[1;34m'_Walc'\u001b[0m\u001b[1;33m,\u001b[0m \u001b[1;34m\"factor\"\u001b[0m\u001b[1;33m:\u001b[0m \u001b[1;34m\"Walc\"\u001b[0m\u001b[1;33m,\u001b[0m \u001b[1;34m\"avgGrade\"\u001b[0m\u001b[1;33m:\u001b[0m \u001b[0mx\u001b[0m\u001b[1;33m[\u001b[0m\u001b[1;34m\"avgGrade\"\u001b[0m\u001b[1;33m]\u001b[0m\u001b[1;33m,\u001b[0m\u001b[1;34m\"devGrade\"\u001b[0m\u001b[1;33m:\u001b[0m \u001b[0mx\u001b[0m\u001b[1;33m[\u001b[0m\u001b[1;34m\"devGrade\"\u001b[0m\u001b[1;33m]\u001b[0m\u001b[1;33m}\u001b[0m\u001b[1;33m)\u001b[0m\u001b[1;33m\u001b[0m\u001b[1;33m\u001b[0m\u001b[0m\n\u001b[0m",
      "\u001b[1;32m~\\AppData\\Roaming\\Python\\Python38\\site-packages\\pymongo\\collection.py\u001b[0m in \u001b[0;36minsert\u001b[1;34m(self, doc_or_docs, manipulate, check_keys, continue_on_error, **kwargs)\u001b[0m\n\u001b[0;32m   3291\u001b[0m         \u001b[1;32mif\u001b[0m \u001b[0mkwargs\u001b[0m\u001b[1;33m:\u001b[0m\u001b[1;33m\u001b[0m\u001b[1;33m\u001b[0m\u001b[0m\n\u001b[0;32m   3292\u001b[0m             \u001b[0mwrite_concern\u001b[0m \u001b[1;33m=\u001b[0m \u001b[0mWriteConcern\u001b[0m\u001b[1;33m(\u001b[0m\u001b[1;33m**\u001b[0m\u001b[0mkwargs\u001b[0m\u001b[1;33m)\u001b[0m\u001b[1;33m\u001b[0m\u001b[1;33m\u001b[0m\u001b[0m\n\u001b[1;32m-> 3293\u001b[1;33m         return self._insert(doc_or_docs, not continue_on_error,\n\u001b[0m\u001b[0;32m   3294\u001b[0m                             check_keys, manipulate, write_concern)\n\u001b[0;32m   3295\u001b[0m \u001b[1;33m\u001b[0m\u001b[0m\n",
      "\u001b[1;32m~\\AppData\\Roaming\\Python\\Python38\\site-packages\\pymongo\\collection.py\u001b[0m in \u001b[0;36m_insert\u001b[1;34m(self, docs, ordered, check_keys, manipulate, write_concern, op_id, bypass_doc_val, session)\u001b[0m\n\u001b[0;32m    611\u001b[0m         \u001b[1;34m\"\"\"Internal insert helper.\"\"\"\u001b[0m\u001b[1;33m\u001b[0m\u001b[1;33m\u001b[0m\u001b[0m\n\u001b[0;32m    612\u001b[0m         \u001b[1;32mif\u001b[0m \u001b[0misinstance\u001b[0m\u001b[1;33m(\u001b[0m\u001b[0mdocs\u001b[0m\u001b[1;33m,\u001b[0m \u001b[0mabc\u001b[0m\u001b[1;33m.\u001b[0m\u001b[0mMapping\u001b[0m\u001b[1;33m)\u001b[0m\u001b[1;33m:\u001b[0m\u001b[1;33m\u001b[0m\u001b[1;33m\u001b[0m\u001b[0m\n\u001b[1;32m--> 613\u001b[1;33m             return self._insert_one(\n\u001b[0m\u001b[0;32m    614\u001b[0m                 \u001b[0mdocs\u001b[0m\u001b[1;33m,\u001b[0m \u001b[0mordered\u001b[0m\u001b[1;33m,\u001b[0m \u001b[0mcheck_keys\u001b[0m\u001b[1;33m,\u001b[0m \u001b[0mmanipulate\u001b[0m\u001b[1;33m,\u001b[0m \u001b[0mwrite_concern\u001b[0m\u001b[1;33m,\u001b[0m \u001b[0mop_id\u001b[0m\u001b[1;33m,\u001b[0m\u001b[1;33m\u001b[0m\u001b[1;33m\u001b[0m\u001b[0m\n\u001b[0;32m    615\u001b[0m                 bypass_doc_val, session)\n",
      "\u001b[1;32m~\\AppData\\Roaming\\Python\\Python38\\site-packages\\pymongo\\collection.py\u001b[0m in \u001b[0;36m_insert_one\u001b[1;34m(self, doc, ordered, check_keys, manipulate, write_concern, op_id, bypass_doc_val, session)\u001b[0m\n\u001b[0;32m    600\u001b[0m             \u001b[0m_check_write_command_response\u001b[0m\u001b[1;33m(\u001b[0m\u001b[0mresult\u001b[0m\u001b[1;33m)\u001b[0m\u001b[1;33m\u001b[0m\u001b[1;33m\u001b[0m\u001b[0m\n\u001b[0;32m    601\u001b[0m \u001b[1;33m\u001b[0m\u001b[0m\n\u001b[1;32m--> 602\u001b[1;33m         self.__database.client._retryable_write(\n\u001b[0m\u001b[0;32m    603\u001b[0m             acknowledged, _insert_command, session)\n\u001b[0;32m    604\u001b[0m \u001b[1;33m\u001b[0m\u001b[0m\n",
      "\u001b[1;32m~\\AppData\\Roaming\\Python\\Python38\\site-packages\\pymongo\\mongo_client.py\u001b[0m in \u001b[0;36m_retryable_write\u001b[1;34m(self, retryable, func, session)\u001b[0m\n\u001b[0;32m   1496\u001b[0m         \u001b[1;34m\"\"\"Internal retryable write helper.\"\"\"\u001b[0m\u001b[1;33m\u001b[0m\u001b[1;33m\u001b[0m\u001b[0m\n\u001b[0;32m   1497\u001b[0m         \u001b[1;32mwith\u001b[0m \u001b[0mself\u001b[0m\u001b[1;33m.\u001b[0m\u001b[0m_tmp_session\u001b[0m\u001b[1;33m(\u001b[0m\u001b[0msession\u001b[0m\u001b[1;33m)\u001b[0m \u001b[1;32mas\u001b[0m \u001b[0ms\u001b[0m\u001b[1;33m:\u001b[0m\u001b[1;33m\u001b[0m\u001b[1;33m\u001b[0m\u001b[0m\n\u001b[1;32m-> 1498\u001b[1;33m             \u001b[1;32mreturn\u001b[0m \u001b[0mself\u001b[0m\u001b[1;33m.\u001b[0m\u001b[0m_retry_with_session\u001b[0m\u001b[1;33m(\u001b[0m\u001b[0mretryable\u001b[0m\u001b[1;33m,\u001b[0m \u001b[0mfunc\u001b[0m\u001b[1;33m,\u001b[0m \u001b[0ms\u001b[0m\u001b[1;33m,\u001b[0m \u001b[1;32mNone\u001b[0m\u001b[1;33m)\u001b[0m\u001b[1;33m\u001b[0m\u001b[1;33m\u001b[0m\u001b[0m\n\u001b[0m\u001b[0;32m   1499\u001b[0m \u001b[1;33m\u001b[0m\u001b[0m\n\u001b[0;32m   1500\u001b[0m     \u001b[1;32mdef\u001b[0m \u001b[0m_handle_getlasterror\u001b[0m\u001b[1;33m(\u001b[0m\u001b[0mself\u001b[0m\u001b[1;33m,\u001b[0m \u001b[0maddress\u001b[0m\u001b[1;33m,\u001b[0m \u001b[0merror_msg\u001b[0m\u001b[1;33m)\u001b[0m\u001b[1;33m:\u001b[0m\u001b[1;33m\u001b[0m\u001b[1;33m\u001b[0m\u001b[0m\n",
      "\u001b[1;32m~\\AppData\\Roaming\\Python\\Python38\\site-packages\\pymongo\\mongo_client.py\u001b[0m in \u001b[0;36m_retry_with_session\u001b[1;34m(self, retryable, func, session, bulk)\u001b[0m\n\u001b[0;32m   1382\u001b[0m         retryable = (retryable and self.retry_writes\n\u001b[0;32m   1383\u001b[0m                      and session and not session.in_transaction)\n\u001b[1;32m-> 1384\u001b[1;33m         \u001b[1;32mreturn\u001b[0m \u001b[0mself\u001b[0m\u001b[1;33m.\u001b[0m\u001b[0m_retry_internal\u001b[0m\u001b[1;33m(\u001b[0m\u001b[0mretryable\u001b[0m\u001b[1;33m,\u001b[0m \u001b[0mfunc\u001b[0m\u001b[1;33m,\u001b[0m \u001b[0msession\u001b[0m\u001b[1;33m,\u001b[0m \u001b[0mbulk\u001b[0m\u001b[1;33m)\u001b[0m\u001b[1;33m\u001b[0m\u001b[1;33m\u001b[0m\u001b[0m\n\u001b[0m\u001b[0;32m   1385\u001b[0m \u001b[1;33m\u001b[0m\u001b[0m\n\u001b[0;32m   1386\u001b[0m     \u001b[1;32mdef\u001b[0m \u001b[0m_retry_internal\u001b[0m\u001b[1;33m(\u001b[0m\u001b[0mself\u001b[0m\u001b[1;33m,\u001b[0m \u001b[0mretryable\u001b[0m\u001b[1;33m,\u001b[0m \u001b[0mfunc\u001b[0m\u001b[1;33m,\u001b[0m \u001b[0msession\u001b[0m\u001b[1;33m,\u001b[0m \u001b[0mbulk\u001b[0m\u001b[1;33m)\u001b[0m\u001b[1;33m:\u001b[0m\u001b[1;33m\u001b[0m\u001b[1;33m\u001b[0m\u001b[0m\n",
      "\u001b[1;32m~\\AppData\\Roaming\\Python\\Python38\\site-packages\\pymongo\\mongo_client.py\u001b[0m in \u001b[0;36m_retry_internal\u001b[1;34m(self, retryable, func, session, bulk)\u001b[0m\n\u001b[0;32m   1414\u001b[0m                             \u001b[1;32mraise\u001b[0m \u001b[0mlast_error\u001b[0m\u001b[1;33m\u001b[0m\u001b[1;33m\u001b[0m\u001b[0m\n\u001b[0;32m   1415\u001b[0m                         \u001b[0mretryable\u001b[0m \u001b[1;33m=\u001b[0m \u001b[1;32mFalse\u001b[0m\u001b[1;33m\u001b[0m\u001b[1;33m\u001b[0m\u001b[0m\n\u001b[1;32m-> 1416\u001b[1;33m                     \u001b[1;32mreturn\u001b[0m \u001b[0mfunc\u001b[0m\u001b[1;33m(\u001b[0m\u001b[0msession\u001b[0m\u001b[1;33m,\u001b[0m \u001b[0msock_info\u001b[0m\u001b[1;33m,\u001b[0m \u001b[0mretryable\u001b[0m\u001b[1;33m)\u001b[0m\u001b[1;33m\u001b[0m\u001b[1;33m\u001b[0m\u001b[0m\n\u001b[0m\u001b[0;32m   1417\u001b[0m             \u001b[1;32mexcept\u001b[0m \u001b[0mServerSelectionTimeoutError\u001b[0m\u001b[1;33m:\u001b[0m\u001b[1;33m\u001b[0m\u001b[1;33m\u001b[0m\u001b[0m\n\u001b[0;32m   1418\u001b[0m                 \u001b[1;32mif\u001b[0m \u001b[0mis_retrying\u001b[0m\u001b[1;33m(\u001b[0m\u001b[1;33m)\u001b[0m\u001b[1;33m:\u001b[0m\u001b[1;33m\u001b[0m\u001b[1;33m\u001b[0m\u001b[0m\n",
      "\u001b[1;32m~\\AppData\\Roaming\\Python\\Python38\\site-packages\\pymongo\\collection.py\u001b[0m in \u001b[0;36m_insert_command\u001b[1;34m(session, sock_info, retryable_write)\u001b[0m\n\u001b[0;32m    598\u001b[0m                 retryable_write=retryable_write)\n\u001b[0;32m    599\u001b[0m \u001b[1;33m\u001b[0m\u001b[0m\n\u001b[1;32m--> 600\u001b[1;33m             \u001b[0m_check_write_command_response\u001b[0m\u001b[1;33m(\u001b[0m\u001b[0mresult\u001b[0m\u001b[1;33m)\u001b[0m\u001b[1;33m\u001b[0m\u001b[1;33m\u001b[0m\u001b[0m\n\u001b[0m\u001b[0;32m    601\u001b[0m \u001b[1;33m\u001b[0m\u001b[0m\n\u001b[0;32m    602\u001b[0m         self.__database.client._retryable_write(\n",
      "\u001b[1;32m~\\AppData\\Roaming\\Python\\Python38\\site-packages\\pymongo\\helpers.py\u001b[0m in \u001b[0;36m_check_write_command_response\u001b[1;34m(result)\u001b[0m\n\u001b[0;32m    228\u001b[0m     \u001b[0mwrite_errors\u001b[0m \u001b[1;33m=\u001b[0m \u001b[0mresult\u001b[0m\u001b[1;33m.\u001b[0m\u001b[0mget\u001b[0m\u001b[1;33m(\u001b[0m\u001b[1;34m\"writeErrors\"\u001b[0m\u001b[1;33m)\u001b[0m\u001b[1;33m\u001b[0m\u001b[1;33m\u001b[0m\u001b[0m\n\u001b[0;32m    229\u001b[0m     \u001b[1;32mif\u001b[0m \u001b[0mwrite_errors\u001b[0m\u001b[1;33m:\u001b[0m\u001b[1;33m\u001b[0m\u001b[1;33m\u001b[0m\u001b[0m\n\u001b[1;32m--> 230\u001b[1;33m         \u001b[0m_raise_last_write_error\u001b[0m\u001b[1;33m(\u001b[0m\u001b[0mwrite_errors\u001b[0m\u001b[1;33m)\u001b[0m\u001b[1;33m\u001b[0m\u001b[1;33m\u001b[0m\u001b[0m\n\u001b[0m\u001b[0;32m    231\u001b[0m \u001b[1;33m\u001b[0m\u001b[0m\n\u001b[0;32m    232\u001b[0m     \u001b[0merror\u001b[0m \u001b[1;33m=\u001b[0m \u001b[0mresult\u001b[0m\u001b[1;33m.\u001b[0m\u001b[0mget\u001b[0m\u001b[1;33m(\u001b[0m\u001b[1;34m\"writeConcernError\"\u001b[0m\u001b[1;33m)\u001b[0m\u001b[1;33m\u001b[0m\u001b[1;33m\u001b[0m\u001b[0m\n",
      "\u001b[1;32m~\\AppData\\Roaming\\Python\\Python38\\site-packages\\pymongo\\helpers.py\u001b[0m in \u001b[0;36m_raise_last_write_error\u001b[1;34m(write_errors)\u001b[0m\n\u001b[0;32m    209\u001b[0m     \u001b[0merror\u001b[0m \u001b[1;33m=\u001b[0m \u001b[0mwrite_errors\u001b[0m\u001b[1;33m[\u001b[0m\u001b[1;33m-\u001b[0m\u001b[1;36m1\u001b[0m\u001b[1;33m]\u001b[0m\u001b[1;33m\u001b[0m\u001b[1;33m\u001b[0m\u001b[0m\n\u001b[0;32m    210\u001b[0m     \u001b[1;32mif\u001b[0m \u001b[0merror\u001b[0m\u001b[1;33m.\u001b[0m\u001b[0mget\u001b[0m\u001b[1;33m(\u001b[0m\u001b[1;34m\"code\"\u001b[0m\u001b[1;33m)\u001b[0m \u001b[1;33m==\u001b[0m \u001b[1;36m11000\u001b[0m\u001b[1;33m:\u001b[0m\u001b[1;33m\u001b[0m\u001b[1;33m\u001b[0m\u001b[0m\n\u001b[1;32m--> 211\u001b[1;33m         \u001b[1;32mraise\u001b[0m \u001b[0mDuplicateKeyError\u001b[0m\u001b[1;33m(\u001b[0m\u001b[0merror\u001b[0m\u001b[1;33m.\u001b[0m\u001b[0mget\u001b[0m\u001b[1;33m(\u001b[0m\u001b[1;34m\"errmsg\"\u001b[0m\u001b[1;33m)\u001b[0m\u001b[1;33m,\u001b[0m \u001b[1;36m11000\u001b[0m\u001b[1;33m,\u001b[0m \u001b[0merror\u001b[0m\u001b[1;33m)\u001b[0m\u001b[1;33m\u001b[0m\u001b[1;33m\u001b[0m\u001b[0m\n\u001b[0m\u001b[0;32m    212\u001b[0m     \u001b[1;32mraise\u001b[0m \u001b[0mWriteError\u001b[0m\u001b[1;33m(\u001b[0m\u001b[0merror\u001b[0m\u001b[1;33m.\u001b[0m\u001b[0mget\u001b[0m\u001b[1;33m(\u001b[0m\u001b[1;34m\"errmsg\"\u001b[0m\u001b[1;33m)\u001b[0m\u001b[1;33m,\u001b[0m \u001b[0merror\u001b[0m\u001b[1;33m.\u001b[0m\u001b[0mget\u001b[0m\u001b[1;33m(\u001b[0m\u001b[1;34m\"code\"\u001b[0m\u001b[1;33m)\u001b[0m\u001b[1;33m,\u001b[0m \u001b[0merror\u001b[0m\u001b[1;33m)\u001b[0m\u001b[1;33m\u001b[0m\u001b[1;33m\u001b[0m\u001b[0m\n\u001b[0;32m    213\u001b[0m \u001b[1;33m\u001b[0m\u001b[0m\n",
      "\u001b[1;31mDuplicateKeyError\u001b[0m: E11000 duplicate key error collection: studentperformance.resultsgradeportuguese index: _id_ dup key: { _id: \"1_Walc\" }, full error: {'index': 0, 'code': 11000, 'keyPattern': {'_id': 1}, 'keyValue': {'_id': '1_Walc'}, 'errmsg': 'E11000 duplicate key error collection: studentperformance.resultsgradeportuguese index: _id_ dup key: { _id: \"1_Walc\" }'}"
     ]
    }
   ],
   "source": [
    "for x in WalcXgrade:\n",
    "     db.resultsgradeportuguese.insert({\"_id\": str(x[\"_id\"]) + '_Walc', \"factor\": \"Walc\", \"avgGrade\": x[\"avgGrade\"],\"devGrade\": x[\"devGrade\"]})"
   ]
  },
  {
   "cell_type": "code",
   "execution_count": 49,
   "metadata": {
    "tags": []
   },
   "outputs": [
    {
     "output_type": "stream",
     "name": "stdout",
     "text": "[{'_id': 1, 'avgAbs': 3.5208333333333335, 'devAbs': 4.722015361899428}, {'_id': 2, 'avgAbs': 3.2551724137931033, 'devAbs': 4.171296278577938}, {'_id': 3, 'avgAbs': 3.1365853658536587, 'devAbs': 4.6485163191487935}, {'_id': 4, 'avgAbs': 4.475177304964539, 'devAbs': 4.957795535868867}, {'_id': 5, 'avgAbs': 4.181818181818182, 'devAbs': 4.641618307993191}]\nFrequência com que sai com amigos: De |1 - Muito pouca| para |5 - Muita alta|\n1: Media (Faltas) = 3.52; Desvio P. (Faltas) = 4.72;\n2: Media (Faltas) = 3.26; Desvio P. (Faltas) = 4.17;\n3: Media (Faltas) = 3.14; Desvio P. (Faltas) = 4.65;\n4: Media (Faltas) = 4.48; Desvio P. (Faltas) = 4.96;\n5: Media (Faltas) = 4.18; Desvio P. (Faltas) = 4.64;\n"
    }
   ],
   "source": [
    "def returnId(o):\n",
    "    return o['_id']\n",
    "\n",
    "gooutXabs = list(db.portugueseperformance.aggregate(\n",
    "    [\n",
    "        {\n",
    "            \"$group\":\n",
    "        {\n",
    "            \"_id\": \"$goout\",\n",
    "            \"avgAbs\": { \"$avg\": \"$absences\"},\n",
    "            \"devAbs\": { \"$stdDevSamp\": \"$absences\"}\n",
    "        }}]))\n",
    "gooutXabs.sort(reverse=False, key=returnId)\n",
    "print(gooutXabs)\n",
    "print(\"Frequência com que sai com amigos: De |1 - Muito pouca| para |5 - Muita alta|\")\n",
    "for av in gooutXabs:\n",
    "     roundAvg = round(av['avgAbs'],2)\n",
    "     roundDev = round(av['devAbs'],2)\n",
    "     print(str(av[\"_id\"]) + \": Media (Faltas) = \" + str(roundAvg)+\"; Desvio P. (Faltas) = \"+ str(roundDev)+\";\")"
   ]
  },
  {
   "cell_type": "code",
   "execution_count": 122,
   "metadata": {},
   "outputs": [
    {
     "output_type": "error",
     "ename": "DuplicateKeyError",
     "evalue": "E11000 duplicate key error collection: studentperformance.resultsgradeportuguese index: _id_ dup key: { _id: \"1_Walc\" }, full error: {'index': 0, 'code': 11000, 'keyPattern': {'_id': 1}, 'keyValue': {'_id': '1_Walc'}, 'errmsg': 'E11000 duplicate key error collection: studentperformance.resultsgradeportuguese index: _id_ dup key: { _id: \"1_Walc\" }'}",
     "traceback": [
      "\u001b[1;31m---------------------------------------------------------------------------\u001b[0m",
      "\u001b[1;31mDuplicateKeyError\u001b[0m                         Traceback (most recent call last)",
      "\u001b[1;32m<ipython-input-122-dd47c6c5d401>\u001b[0m in \u001b[0;36m<module>\u001b[1;34m\u001b[0m\n\u001b[0;32m      1\u001b[0m \u001b[1;32mfor\u001b[0m \u001b[0mx\u001b[0m \u001b[1;32min\u001b[0m \u001b[0mWalcXgrade\u001b[0m\u001b[1;33m:\u001b[0m\u001b[1;33m\u001b[0m\u001b[1;33m\u001b[0m\u001b[0m\n\u001b[1;32m----> 2\u001b[1;33m      \u001b[0mdb\u001b[0m\u001b[1;33m.\u001b[0m\u001b[0mresultsgradeportuguese\u001b[0m\u001b[1;33m.\u001b[0m\u001b[0minsert\u001b[0m\u001b[1;33m(\u001b[0m\u001b[1;33m{\u001b[0m\u001b[1;34m\"_id\"\u001b[0m\u001b[1;33m:\u001b[0m \u001b[0mstr\u001b[0m\u001b[1;33m(\u001b[0m\u001b[0mx\u001b[0m\u001b[1;33m[\u001b[0m\u001b[1;34m\"_id\"\u001b[0m\u001b[1;33m]\u001b[0m\u001b[1;33m)\u001b[0m \u001b[1;33m+\u001b[0m \u001b[1;34m'_Walc'\u001b[0m\u001b[1;33m,\u001b[0m \u001b[1;34m\"factor\"\u001b[0m\u001b[1;33m:\u001b[0m \u001b[1;34m\"Walc\"\u001b[0m\u001b[1;33m,\u001b[0m \u001b[1;34m\"avgGrade\"\u001b[0m\u001b[1;33m:\u001b[0m \u001b[0mx\u001b[0m\u001b[1;33m[\u001b[0m\u001b[1;34m\"avgGrade\"\u001b[0m\u001b[1;33m]\u001b[0m\u001b[1;33m,\u001b[0m\u001b[1;34m\"devGrade\"\u001b[0m\u001b[1;33m:\u001b[0m \u001b[0mx\u001b[0m\u001b[1;33m[\u001b[0m\u001b[1;34m\"devGrade\"\u001b[0m\u001b[1;33m]\u001b[0m\u001b[1;33m}\u001b[0m\u001b[1;33m)\u001b[0m\u001b[1;33m\u001b[0m\u001b[1;33m\u001b[0m\u001b[0m\n\u001b[0m",
      "\u001b[1;32m~\\AppData\\Roaming\\Python\\Python38\\site-packages\\pymongo\\collection.py\u001b[0m in \u001b[0;36minsert\u001b[1;34m(self, doc_or_docs, manipulate, check_keys, continue_on_error, **kwargs)\u001b[0m\n\u001b[0;32m   3291\u001b[0m         \u001b[1;32mif\u001b[0m \u001b[0mkwargs\u001b[0m\u001b[1;33m:\u001b[0m\u001b[1;33m\u001b[0m\u001b[1;33m\u001b[0m\u001b[0m\n\u001b[0;32m   3292\u001b[0m             \u001b[0mwrite_concern\u001b[0m \u001b[1;33m=\u001b[0m \u001b[0mWriteConcern\u001b[0m\u001b[1;33m(\u001b[0m\u001b[1;33m**\u001b[0m\u001b[0mkwargs\u001b[0m\u001b[1;33m)\u001b[0m\u001b[1;33m\u001b[0m\u001b[1;33m\u001b[0m\u001b[0m\n\u001b[1;32m-> 3293\u001b[1;33m         return self._insert(doc_or_docs, not continue_on_error,\n\u001b[0m\u001b[0;32m   3294\u001b[0m                             check_keys, manipulate, write_concern)\n\u001b[0;32m   3295\u001b[0m \u001b[1;33m\u001b[0m\u001b[0m\n",
      "\u001b[1;32m~\\AppData\\Roaming\\Python\\Python38\\site-packages\\pymongo\\collection.py\u001b[0m in \u001b[0;36m_insert\u001b[1;34m(self, docs, ordered, check_keys, manipulate, write_concern, op_id, bypass_doc_val, session)\u001b[0m\n\u001b[0;32m    611\u001b[0m         \u001b[1;34m\"\"\"Internal insert helper.\"\"\"\u001b[0m\u001b[1;33m\u001b[0m\u001b[1;33m\u001b[0m\u001b[0m\n\u001b[0;32m    612\u001b[0m         \u001b[1;32mif\u001b[0m \u001b[0misinstance\u001b[0m\u001b[1;33m(\u001b[0m\u001b[0mdocs\u001b[0m\u001b[1;33m,\u001b[0m \u001b[0mabc\u001b[0m\u001b[1;33m.\u001b[0m\u001b[0mMapping\u001b[0m\u001b[1;33m)\u001b[0m\u001b[1;33m:\u001b[0m\u001b[1;33m\u001b[0m\u001b[1;33m\u001b[0m\u001b[0m\n\u001b[1;32m--> 613\u001b[1;33m             return self._insert_one(\n\u001b[0m\u001b[0;32m    614\u001b[0m                 \u001b[0mdocs\u001b[0m\u001b[1;33m,\u001b[0m \u001b[0mordered\u001b[0m\u001b[1;33m,\u001b[0m \u001b[0mcheck_keys\u001b[0m\u001b[1;33m,\u001b[0m \u001b[0mmanipulate\u001b[0m\u001b[1;33m,\u001b[0m \u001b[0mwrite_concern\u001b[0m\u001b[1;33m,\u001b[0m \u001b[0mop_id\u001b[0m\u001b[1;33m,\u001b[0m\u001b[1;33m\u001b[0m\u001b[1;33m\u001b[0m\u001b[0m\n\u001b[0;32m    615\u001b[0m                 bypass_doc_val, session)\n",
      "\u001b[1;32m~\\AppData\\Roaming\\Python\\Python38\\site-packages\\pymongo\\collection.py\u001b[0m in \u001b[0;36m_insert_one\u001b[1;34m(self, doc, ordered, check_keys, manipulate, write_concern, op_id, bypass_doc_val, session)\u001b[0m\n\u001b[0;32m    600\u001b[0m             \u001b[0m_check_write_command_response\u001b[0m\u001b[1;33m(\u001b[0m\u001b[0mresult\u001b[0m\u001b[1;33m)\u001b[0m\u001b[1;33m\u001b[0m\u001b[1;33m\u001b[0m\u001b[0m\n\u001b[0;32m    601\u001b[0m \u001b[1;33m\u001b[0m\u001b[0m\n\u001b[1;32m--> 602\u001b[1;33m         self.__database.client._retryable_write(\n\u001b[0m\u001b[0;32m    603\u001b[0m             acknowledged, _insert_command, session)\n\u001b[0;32m    604\u001b[0m \u001b[1;33m\u001b[0m\u001b[0m\n",
      "\u001b[1;32m~\\AppData\\Roaming\\Python\\Python38\\site-packages\\pymongo\\mongo_client.py\u001b[0m in \u001b[0;36m_retryable_write\u001b[1;34m(self, retryable, func, session)\u001b[0m\n\u001b[0;32m   1496\u001b[0m         \u001b[1;34m\"\"\"Internal retryable write helper.\"\"\"\u001b[0m\u001b[1;33m\u001b[0m\u001b[1;33m\u001b[0m\u001b[0m\n\u001b[0;32m   1497\u001b[0m         \u001b[1;32mwith\u001b[0m \u001b[0mself\u001b[0m\u001b[1;33m.\u001b[0m\u001b[0m_tmp_session\u001b[0m\u001b[1;33m(\u001b[0m\u001b[0msession\u001b[0m\u001b[1;33m)\u001b[0m \u001b[1;32mas\u001b[0m \u001b[0ms\u001b[0m\u001b[1;33m:\u001b[0m\u001b[1;33m\u001b[0m\u001b[1;33m\u001b[0m\u001b[0m\n\u001b[1;32m-> 1498\u001b[1;33m             \u001b[1;32mreturn\u001b[0m \u001b[0mself\u001b[0m\u001b[1;33m.\u001b[0m\u001b[0m_retry_with_session\u001b[0m\u001b[1;33m(\u001b[0m\u001b[0mretryable\u001b[0m\u001b[1;33m,\u001b[0m \u001b[0mfunc\u001b[0m\u001b[1;33m,\u001b[0m \u001b[0ms\u001b[0m\u001b[1;33m,\u001b[0m \u001b[1;32mNone\u001b[0m\u001b[1;33m)\u001b[0m\u001b[1;33m\u001b[0m\u001b[1;33m\u001b[0m\u001b[0m\n\u001b[0m\u001b[0;32m   1499\u001b[0m \u001b[1;33m\u001b[0m\u001b[0m\n\u001b[0;32m   1500\u001b[0m     \u001b[1;32mdef\u001b[0m \u001b[0m_handle_getlasterror\u001b[0m\u001b[1;33m(\u001b[0m\u001b[0mself\u001b[0m\u001b[1;33m,\u001b[0m \u001b[0maddress\u001b[0m\u001b[1;33m,\u001b[0m \u001b[0merror_msg\u001b[0m\u001b[1;33m)\u001b[0m\u001b[1;33m:\u001b[0m\u001b[1;33m\u001b[0m\u001b[1;33m\u001b[0m\u001b[0m\n",
      "\u001b[1;32m~\\AppData\\Roaming\\Python\\Python38\\site-packages\\pymongo\\mongo_client.py\u001b[0m in \u001b[0;36m_retry_with_session\u001b[1;34m(self, retryable, func, session, bulk)\u001b[0m\n\u001b[0;32m   1382\u001b[0m         retryable = (retryable and self.retry_writes\n\u001b[0;32m   1383\u001b[0m                      and session and not session.in_transaction)\n\u001b[1;32m-> 1384\u001b[1;33m         \u001b[1;32mreturn\u001b[0m \u001b[0mself\u001b[0m\u001b[1;33m.\u001b[0m\u001b[0m_retry_internal\u001b[0m\u001b[1;33m(\u001b[0m\u001b[0mretryable\u001b[0m\u001b[1;33m,\u001b[0m \u001b[0mfunc\u001b[0m\u001b[1;33m,\u001b[0m \u001b[0msession\u001b[0m\u001b[1;33m,\u001b[0m \u001b[0mbulk\u001b[0m\u001b[1;33m)\u001b[0m\u001b[1;33m\u001b[0m\u001b[1;33m\u001b[0m\u001b[0m\n\u001b[0m\u001b[0;32m   1385\u001b[0m \u001b[1;33m\u001b[0m\u001b[0m\n\u001b[0;32m   1386\u001b[0m     \u001b[1;32mdef\u001b[0m \u001b[0m_retry_internal\u001b[0m\u001b[1;33m(\u001b[0m\u001b[0mself\u001b[0m\u001b[1;33m,\u001b[0m \u001b[0mretryable\u001b[0m\u001b[1;33m,\u001b[0m \u001b[0mfunc\u001b[0m\u001b[1;33m,\u001b[0m \u001b[0msession\u001b[0m\u001b[1;33m,\u001b[0m \u001b[0mbulk\u001b[0m\u001b[1;33m)\u001b[0m\u001b[1;33m:\u001b[0m\u001b[1;33m\u001b[0m\u001b[1;33m\u001b[0m\u001b[0m\n",
      "\u001b[1;32m~\\AppData\\Roaming\\Python\\Python38\\site-packages\\pymongo\\mongo_client.py\u001b[0m in \u001b[0;36m_retry_internal\u001b[1;34m(self, retryable, func, session, bulk)\u001b[0m\n\u001b[0;32m   1414\u001b[0m                             \u001b[1;32mraise\u001b[0m \u001b[0mlast_error\u001b[0m\u001b[1;33m\u001b[0m\u001b[1;33m\u001b[0m\u001b[0m\n\u001b[0;32m   1415\u001b[0m                         \u001b[0mretryable\u001b[0m \u001b[1;33m=\u001b[0m \u001b[1;32mFalse\u001b[0m\u001b[1;33m\u001b[0m\u001b[1;33m\u001b[0m\u001b[0m\n\u001b[1;32m-> 1416\u001b[1;33m                     \u001b[1;32mreturn\u001b[0m \u001b[0mfunc\u001b[0m\u001b[1;33m(\u001b[0m\u001b[0msession\u001b[0m\u001b[1;33m,\u001b[0m \u001b[0msock_info\u001b[0m\u001b[1;33m,\u001b[0m \u001b[0mretryable\u001b[0m\u001b[1;33m)\u001b[0m\u001b[1;33m\u001b[0m\u001b[1;33m\u001b[0m\u001b[0m\n\u001b[0m\u001b[0;32m   1417\u001b[0m             \u001b[1;32mexcept\u001b[0m \u001b[0mServerSelectionTimeoutError\u001b[0m\u001b[1;33m:\u001b[0m\u001b[1;33m\u001b[0m\u001b[1;33m\u001b[0m\u001b[0m\n\u001b[0;32m   1418\u001b[0m                 \u001b[1;32mif\u001b[0m \u001b[0mis_retrying\u001b[0m\u001b[1;33m(\u001b[0m\u001b[1;33m)\u001b[0m\u001b[1;33m:\u001b[0m\u001b[1;33m\u001b[0m\u001b[1;33m\u001b[0m\u001b[0m\n",
      "\u001b[1;32m~\\AppData\\Roaming\\Python\\Python38\\site-packages\\pymongo\\collection.py\u001b[0m in \u001b[0;36m_insert_command\u001b[1;34m(session, sock_info, retryable_write)\u001b[0m\n\u001b[0;32m    598\u001b[0m                 retryable_write=retryable_write)\n\u001b[0;32m    599\u001b[0m \u001b[1;33m\u001b[0m\u001b[0m\n\u001b[1;32m--> 600\u001b[1;33m             \u001b[0m_check_write_command_response\u001b[0m\u001b[1;33m(\u001b[0m\u001b[0mresult\u001b[0m\u001b[1;33m)\u001b[0m\u001b[1;33m\u001b[0m\u001b[1;33m\u001b[0m\u001b[0m\n\u001b[0m\u001b[0;32m    601\u001b[0m \u001b[1;33m\u001b[0m\u001b[0m\n\u001b[0;32m    602\u001b[0m         self.__database.client._retryable_write(\n",
      "\u001b[1;32m~\\AppData\\Roaming\\Python\\Python38\\site-packages\\pymongo\\helpers.py\u001b[0m in \u001b[0;36m_check_write_command_response\u001b[1;34m(result)\u001b[0m\n\u001b[0;32m    228\u001b[0m     \u001b[0mwrite_errors\u001b[0m \u001b[1;33m=\u001b[0m \u001b[0mresult\u001b[0m\u001b[1;33m.\u001b[0m\u001b[0mget\u001b[0m\u001b[1;33m(\u001b[0m\u001b[1;34m\"writeErrors\"\u001b[0m\u001b[1;33m)\u001b[0m\u001b[1;33m\u001b[0m\u001b[1;33m\u001b[0m\u001b[0m\n\u001b[0;32m    229\u001b[0m     \u001b[1;32mif\u001b[0m \u001b[0mwrite_errors\u001b[0m\u001b[1;33m:\u001b[0m\u001b[1;33m\u001b[0m\u001b[1;33m\u001b[0m\u001b[0m\n\u001b[1;32m--> 230\u001b[1;33m         \u001b[0m_raise_last_write_error\u001b[0m\u001b[1;33m(\u001b[0m\u001b[0mwrite_errors\u001b[0m\u001b[1;33m)\u001b[0m\u001b[1;33m\u001b[0m\u001b[1;33m\u001b[0m\u001b[0m\n\u001b[0m\u001b[0;32m    231\u001b[0m \u001b[1;33m\u001b[0m\u001b[0m\n\u001b[0;32m    232\u001b[0m     \u001b[0merror\u001b[0m \u001b[1;33m=\u001b[0m \u001b[0mresult\u001b[0m\u001b[1;33m.\u001b[0m\u001b[0mget\u001b[0m\u001b[1;33m(\u001b[0m\u001b[1;34m\"writeConcernError\"\u001b[0m\u001b[1;33m)\u001b[0m\u001b[1;33m\u001b[0m\u001b[1;33m\u001b[0m\u001b[0m\n",
      "\u001b[1;32m~\\AppData\\Roaming\\Python\\Python38\\site-packages\\pymongo\\helpers.py\u001b[0m in \u001b[0;36m_raise_last_write_error\u001b[1;34m(write_errors)\u001b[0m\n\u001b[0;32m    209\u001b[0m     \u001b[0merror\u001b[0m \u001b[1;33m=\u001b[0m \u001b[0mwrite_errors\u001b[0m\u001b[1;33m[\u001b[0m\u001b[1;33m-\u001b[0m\u001b[1;36m1\u001b[0m\u001b[1;33m]\u001b[0m\u001b[1;33m\u001b[0m\u001b[1;33m\u001b[0m\u001b[0m\n\u001b[0;32m    210\u001b[0m     \u001b[1;32mif\u001b[0m \u001b[0merror\u001b[0m\u001b[1;33m.\u001b[0m\u001b[0mget\u001b[0m\u001b[1;33m(\u001b[0m\u001b[1;34m\"code\"\u001b[0m\u001b[1;33m)\u001b[0m \u001b[1;33m==\u001b[0m \u001b[1;36m11000\u001b[0m\u001b[1;33m:\u001b[0m\u001b[1;33m\u001b[0m\u001b[1;33m\u001b[0m\u001b[0m\n\u001b[1;32m--> 211\u001b[1;33m         \u001b[1;32mraise\u001b[0m \u001b[0mDuplicateKeyError\u001b[0m\u001b[1;33m(\u001b[0m\u001b[0merror\u001b[0m\u001b[1;33m.\u001b[0m\u001b[0mget\u001b[0m\u001b[1;33m(\u001b[0m\u001b[1;34m\"errmsg\"\u001b[0m\u001b[1;33m)\u001b[0m\u001b[1;33m,\u001b[0m \u001b[1;36m11000\u001b[0m\u001b[1;33m,\u001b[0m \u001b[0merror\u001b[0m\u001b[1;33m)\u001b[0m\u001b[1;33m\u001b[0m\u001b[1;33m\u001b[0m\u001b[0m\n\u001b[0m\u001b[0;32m    212\u001b[0m     \u001b[1;32mraise\u001b[0m \u001b[0mWriteError\u001b[0m\u001b[1;33m(\u001b[0m\u001b[0merror\u001b[0m\u001b[1;33m.\u001b[0m\u001b[0mget\u001b[0m\u001b[1;33m(\u001b[0m\u001b[1;34m\"errmsg\"\u001b[0m\u001b[1;33m)\u001b[0m\u001b[1;33m,\u001b[0m \u001b[0merror\u001b[0m\u001b[1;33m.\u001b[0m\u001b[0mget\u001b[0m\u001b[1;33m(\u001b[0m\u001b[1;34m\"code\"\u001b[0m\u001b[1;33m)\u001b[0m\u001b[1;33m,\u001b[0m \u001b[0merror\u001b[0m\u001b[1;33m)\u001b[0m\u001b[1;33m\u001b[0m\u001b[1;33m\u001b[0m\u001b[0m\n\u001b[0;32m    213\u001b[0m \u001b[1;33m\u001b[0m\u001b[0m\n",
      "\u001b[1;31mDuplicateKeyError\u001b[0m: E11000 duplicate key error collection: studentperformance.resultsgradeportuguese index: _id_ dup key: { _id: \"1_Walc\" }, full error: {'index': 0, 'code': 11000, 'keyPattern': {'_id': 1}, 'keyValue': {'_id': '1_Walc'}, 'errmsg': 'E11000 duplicate key error collection: studentperformance.resultsgradeportuguese index: _id_ dup key: { _id: \"1_Walc\" }'}"
     ]
    }
   ],
   "source": [
    "for x in WalcXgrade:\n",
    "     db.resultsgradeportuguese.insert({\"_id\": str(x[\"_id\"]) + '_Walc', \"factor\": \"Walc\", \"avgGrade\": x[\"avgGrade\"],\"devGrade\": x[\"devGrade\"]})"
   ]
  },
  {
   "cell_type": "code",
   "execution_count": 50,
   "metadata": {
    "tags": []
   },
   "outputs": [
    {
     "output_type": "stream",
     "name": "stdout",
     "text": "[{'_id': 1, 'avgGrade': 10.729166666666666, 'devGrade': 3.846742658147823}, {'_id': 2, 'avgGrade': 12.668965517241379, 'devGrade': 3.171170421008694}, {'_id': 3, 'avgGrade': 12.151219512195121, 'devGrade': 2.9022575688067107}, {'_id': 4, 'avgGrade': 11.97163120567376, 'devGrade': 2.818163693946183}, {'_id': 5, 'avgGrade': 10.872727272727273, 'devGrade': 3.7197935498328145}]\nFrequência com que sai com amigos: De |1 - Muito pouca| para |5 - Muita alta|\n1: Media (Nota Final) = 10.73; Desvio P. (Nota Final) = 3.85;\n2: Media (Nota Final) = 12.67; Desvio P. (Nota Final) = 3.17;\n3: Media (Nota Final) = 12.15; Desvio P. (Nota Final) = 2.9;\n4: Media (Nota Final) = 11.97; Desvio P. (Nota Final) = 2.82;\n5: Media (Nota Final) = 10.87; Desvio P. (Nota Final) = 3.72;\n"
    }
   ],
   "source": [
    "def returnId(o):\n",
    "    return o['_id']\n",
    "\n",
    "gooutXgrade = list(db.portugueseperformance.aggregate(\n",
    "    [\n",
    "        {\n",
    "            \"$group\":\n",
    "        {\n",
    "            \"_id\": \"$goout\",\n",
    "            \"avgGrade\": { \"$avg\": \"$G3\"},\n",
    "            \"devGrade\": { \"$stdDevSamp\": \"$G3\"}\n",
    "        }}]))\n",
    "gooutXgrade.sort(reverse=False, key=returnId)\n",
    "print(gooutXgrade)\n",
    "print(\"Frequência com que sai com amigos: De |1 - Muito pouca| para |5 - Muita alta|\")\n",
    "for av in gooutXgrade:\n",
    "     roundAvg = round(av['avgGrade'],2)\n",
    "     roundDev = round(av['devGrade'],2)\n",
    "     print(str(av[\"_id\"]) + \": Media (Nota Final) = \" + str(roundAvg)+\"; Desvio P. (Nota Final) = \"+ str(roundDev)+\";\")"
   ]
  },
  {
   "cell_type": "code",
   "execution_count": 123,
   "metadata": {},
   "outputs": [],
   "source": [
    "for x in gooutXgrade:\n",
    "     db.resultsgradeportuguese.insert({\"_id\": str(x[\"_id\"]) + '_goout', \"factor\": \"goout\", \"avgGrade\": x[\"avgGrade\"],\"devGrade\": x[\"devGrade\"]})"
   ]
  },
  {
   "cell_type": "code",
   "execution_count": 51,
   "metadata": {
    "tags": []
   },
   "outputs": [
    {
     "output_type": "stream",
     "name": "stdout",
     "text": "[{'_id': 0, 'avgGrade': 11.666666666666666, 'devGrade': 1.7511900715418265}, {'_id': 1, 'avgGrade': 10.797202797202797, 'devGrade': 3.1635232644156672}, {'_id': 2, 'avgGrade': 11.661290322580646, 'devGrade': 3.0612321228309023}, {'_id': 3, 'avgGrade': 11.920863309352518, 'devGrade': 3.123229349269246}, {'_id': 4, 'avgGrade': 13.06857142857143, 'devGrade': 3.2369784609493846}]\nGrau de escolaridade da Mãe: |0 - Nenhum| - |1 - Educação Primária| - |2 - Ensino Fundamental| - |3 - Ensino Médio| - |4 - Superior|\n0: Media (Nota Final) = 11.67; Desvio P. (Nota Final) = 1.75;\n1: Media (Nota Final) = 10.8; Desvio P. (Nota Final) = 3.16;\n2: Media (Nota Final) = 11.66; Desvio P. (Nota Final) = 3.06;\n3: Media (Nota Final) = 11.92; Desvio P. (Nota Final) = 3.12;\n4: Media (Nota Final) = 13.07; Desvio P. (Nota Final) = 3.24;\n"
    }
   ],
   "source": [
    "def returnId(o):\n",
    "    return o['_id']\n",
    "\n",
    "MeduXgrade = list(db.portugueseperformance.aggregate(\n",
    "    [\n",
    "        {\n",
    "            \"$group\":\n",
    "        {\n",
    "            \"_id\": \"$Medu\",\n",
    "            \"avgGrade\": { \"$avg\": \"$G3\"},\n",
    "            \"devGrade\": { \"$stdDevSamp\": \"$G3\"}\n",
    "        }}]))\n",
    "MeduXgrade.sort(reverse=False, key=returnId)\n",
    "print(MeduXgrade)\n",
    "print(\"Grau de escolaridade da Mãe: |0 - Nenhum| - |1 - Educação Primária| - |2 - Ensino Fundamental| - |3 - Ensino Médio| - |4 - Superior|\")\n",
    "for av in MeduXgrade:\n",
    "     roundAvg = round(av['avgGrade'],2)\n",
    "     roundDev = round(av['devGrade'],2)\n",
    "     print(str(av[\"_id\"]) + \": Media (Nota Final) = \" + str(roundAvg)+\"; Desvio P. (Nota Final) = \"+ str(roundDev)+\";\")"
   ]
  },
  {
   "cell_type": "code",
   "execution_count": 124,
   "metadata": {},
   "outputs": [],
   "source": [
    "for x in MeduXgrade:\n",
    "     db.resultsgradeportuguese.insert({\"_id\": str(x[\"_id\"]) + '_Medu', \"factor\": \"Medu\", \"avgGrade\": x[\"avgGrade\"],\"devGrade\": x[\"devGrade\"]})"
   ]
  },
  {
   "cell_type": "code",
   "execution_count": 52,
   "metadata": {
    "tags": []
   },
   "outputs": [
    {
     "output_type": "stream",
     "name": "stdout",
     "text": "[{'_id': 0, 'avgGrade': 12.142857142857142, 'devGrade': 2.794552524023087}, {'_id': 1, 'avgGrade': 10.936781609195402, 'devGrade': 3.4240771067478355}, {'_id': 2, 'avgGrade': 11.78468899521531, 'devGrade': 3.448321083111908}, {'_id': 3, 'avgGrade': 12.381679389312977, 'devGrade': 2.4913944667044956}, {'_id': 4, 'avgGrade': 12.921875, 'devGrade': 2.915096127586682}]\nGrau de escolaridade do Pai: |0 - Nenhum| - |1 - Educação Primária| - |2 - Ensino Fundamental| - |3 - Ensino Médio| - |4 - Superior|\n0: Media (Nota Final) = 12.14; Desvio P. (Nota Final) = 2.79;\n1: Media (Nota Final) = 10.94; Desvio P. (Nota Final) = 3.42;\n2: Media (Nota Final) = 11.78; Desvio P. (Nota Final) = 3.45;\n3: Media (Nota Final) = 12.38; Desvio P. (Nota Final) = 2.49;\n4: Media (Nota Final) = 12.92; Desvio P. (Nota Final) = 2.92;\n"
    }
   ],
   "source": [
    "def returnId(o):\n",
    "    return o['_id']\n",
    "\n",
    "FeduXgrade = list(db.portugueseperformance.aggregate(\n",
    "    [\n",
    "        {\n",
    "            \"$group\":\n",
    "        {\n",
    "            \"_id\": \"$Fedu\",\n",
    "            \"avgGrade\": { \"$avg\": \"$G3\"},\n",
    "            \"devGrade\": { \"$stdDevSamp\": \"$G3\"}\n",
    "        }}]))\n",
    "FeduXgrade.sort(reverse=False, key=returnId)\n",
    "print(FeduXgrade)\n",
    "print(\"Grau de escolaridade do Pai: |0 - Nenhum| - |1 - Educação Primária| - |2 - Ensino Fundamental| - |3 - Ensino Médio| - |4 - Superior|\")\n",
    "for av in FeduXgrade:\n",
    "     roundAvg = round(av['avgGrade'],2)\n",
    "     roundDev = round(av['devGrade'],2)\n",
    "     print(str(av[\"_id\"]) + \": Media (Nota Final) = \" + str(roundAvg)+\"; Desvio P. (Nota Final) = \"+ str(roundDev)+\";\")"
   ]
  },
  {
   "cell_type": "code",
   "execution_count": 125,
   "metadata": {},
   "outputs": [],
   "source": [
    "for x in FeduXgrade:\n",
    "     db.resultsgradeportuguese.insert({\"_id\": str(x[\"_id\"]) + '_Fedu', \"factor\": \"Fedu\", \"avgGrade\": x[\"avgGrade\"],\"devGrade\": x[\"devGrade\"]})"
   ]
  },
  {
   "cell_type": "code",
   "execution_count": 53,
   "metadata": {
    "tags": []
   },
   "outputs": [
    {
     "output_type": "stream",
     "name": "stdout",
     "text": "Ranking escolar por Nota Final\nEscola Gabriel Pereira : Media (Nota Final) = 12.58; Desvio P. (Nota Final) = 2.63;\nEscola Mousinho da Silveira : Media (Nota Final) = 10.65; Desvio P. (Nota Final) = 3.83;\n"
    }
   ],
   "source": [
    "def returnId(o):\n",
    "    return o['_id']\n",
    "\n",
    "schoolXgrade = list(db.portugueseperformance.aggregate(\n",
    "    [\n",
    "        {\n",
    "            \"$group\":\n",
    "        {\n",
    "            \"_id\": \"$school\",\n",
    "            \"avgGrade\": { \"$avg\": \"$G3\"},\n",
    "            \"devGrade\": { \"$stdDevSamp\": \"$G3\"}\n",
    "        }}]))\n",
    "schoolXgrade.sort(reverse=False, key=returnId)\n",
    "print(\"Ranking escolar por Nota Final\")\n",
    "for av in schoolXgrade:\n",
    "     roundAvg = round(av['avgGrade'],2)\n",
    "     roundDev = round(av['devGrade'],2)\n",
    "     print((\"Escola Gabriel Pereira\" if av['_id'] =='GP' else \"Escola Mousinho da Silveira\") + ' : Media (Nota Final) = ' + str(roundAvg)+'; Desvio P. (Nota Final) = '+ str(roundDev)+';')"
   ]
  },
  {
   "cell_type": "code",
   "execution_count": 126,
   "metadata": {
    "tags": []
   },
   "outputs": [
    {
     "output_type": "stream",
     "name": "stdout",
     "text": "Medu: 13.07\nFedu: 12.92\ngoout: 12.67\nhealth: 12.48\nFedu: 12.38\nWalc: 12.36\nfamrel: 12.34\nhealth: 12.31\nDalc: 12.3\nWalc: 12.26\nsex: 12.25\ntraveltime: 12.25\nhealth: 12.19\ninternet: 12.17\ngoout: 12.15\nFedu: 12.14\nromantic: 12.13\ngoout: 11.97\nMedu: 11.92\nPstatus: 11.91\nPstatus: 11.91\nhealth: 11.84\nFedu: 11.78\nWalc: 11.67\nMedu: 11.67\nMedu: 11.66\nfamrel: 11.63\nfamrel: 11.59\ntraveltime: 11.58\nromantic: 11.52\nhealth: 11.47\nsex: 11.41\nDalc: 11.36\ntraveltime: 11.17\nDalc: 11.14\nWalc: 11.03\ninternet: 11.03\nFedu: 10.94\ntraveltime: 10.88\ngoout: 10.87\nfamrel: 10.86\nMedu: 10.8\ngoout: 10.73\nfamrel: 10.64\nWalc: 10.56\nDalc: 10.24\nDalc: 8.94\n"
    }
   ],
   "source": [
    "ordered = list(db.resultsgradeportuguese.find({},{'_id':0, 'factor':1, 'avgGrade': 1}).sort(\"avgGrade\", -1))\n",
    "for el in ordered:\n",
    "     roundAvg = round(el['avgGrade'],2)\n",
    "     print(el['factor'] + \": \" + str(roundAvg))\n"
   ]
  },
  {
   "cell_type": "code",
   "execution_count": 127,
   "metadata": {
    "tags": []
   },
   "outputs": [
    {
     "output_type": "stream",
     "name": "stdout",
     "text": "Dalc: 5.13\ngoout: 3.85\ngoout: 3.72\nfamrel: 3.71\nfamrel: 3.65\nWalc: 3.64\nfamrel: 3.58\nWalc: 3.58\nromantic: 3.56\nFedu: 3.45\ninternet: 3.45\nFedu: 3.42\ntraveltime: 3.42\nDalc: 3.33\nsex: 3.32\nhealth: 3.3\nhealth: 3.3\ntraveltime: 3.27\nhealth: 3.26\nMedu: 3.24\nPstatus: 3.23\nPstatus: 3.22\ngoout: 3.17\nMedu: 3.16\nhealth: 3.14\nsex: 3.12\nMedu: 3.12\ninternet: 3.12\ntraveltime: 3.11\nDalc: 3.1\nWalc: 3.09\nMedu: 3.06\nWalc: 3.06\nfamrel: 3.03\nromantic: 3.0\nhealth: 3.0\nDalc: 2.95\nfamrel: 2.94\nFedu: 2.92\ngoout: 2.9\ngoout: 2.82\nWalc: 2.81\nFedu: 2.79\nFedu: 2.49\nDalc: 2.25\ntraveltime: 2.0\nMedu: 1.75\n"
    }
   ],
   "source": [
    "ordered = list(db.resultsgradeportuguese.find({},{'_id':0, 'factor':1, 'devGrade': 1}).sort(\"devGrade\", -1))\n",
    "for el in ordered:\n",
    "     roundDev = round(el['devGrade'],2)\n",
    "     print(el['factor'] + \": \" + str(roundDev))"
   ]
  },
  {
   "cell_type": "code",
   "execution_count": null,
   "metadata": {},
   "outputs": [],
   "source": []
  }
 ]
}